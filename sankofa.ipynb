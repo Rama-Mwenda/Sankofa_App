{
 "cells": [
  {
   "cell_type": "markdown",
   "metadata": {},
   "source": [
    "### SANKOFA PROJECT"
   ]
  },
  {
   "cell_type": "markdown",
   "metadata": {},
   "source": [
    "#### Initiliazation"
   ]
  },
  {
   "cell_type": "code",
   "execution_count": 1,
   "metadata": {},
   "outputs": [],
   "source": [
    "import k2connect\n",
    "import os\n",
    "\n",
    "# Replace these with secure environment variables\n",
    "CLIENT_ID = os.environ.get(\"CLIENT_ID\", \"o9Izboxt8IQlx5-KoyiNTRf1V_02E_hQYR_OMpl8p3U\")\n",
    "CLIENT_SECRET = os.environ.get(\"CLIENT_SECRET\", \"zR85NT89p_hpspUNVVBIWNc2UVmORgpiYINfK2bAnXA\")\n",
    "BASE_URL = os.environ.get(\"BASE_URL\", \"https://sandbox.kopokopo.com/\")"
   ]
  },
  {
   "cell_type": "code",
   "execution_count": 2,
   "metadata": {},
   "outputs": [
    {
     "name": "stdout",
     "output_type": "stream",
     "text": [
      "CLIENT_ID: o9Izb*****\n",
      "CLIENT_SECRET: zR85N*****\n",
      "BASE_URL: https://sandbox.kopokopo.com/\n"
     ]
    }
   ],
   "source": [
    "# Debugging: Print masked values\n",
    "print(\"CLIENT_ID:\", CLIENT_ID[:5] + \"*****\")\n",
    "print(\"CLIENT_SECRET:\", CLIENT_SECRET[:5] + \"*****\")\n",
    "print(\"BASE_URL:\", BASE_URL)\n",
    "\n",
    "# Initialize the library\n",
    "k2connect.initialize(CLIENT_ID, CLIENT_SECRET, BASE_URL)"
   ]
  },
  {
   "cell_type": "code",
   "execution_count": 4,
   "metadata": {},
   "outputs": [
    {
     "data": {
      "text/plain": [
       "{'access_token': 'OX7H64ep_LqxcfmXlNqHNIiR0_85uSZmjwdX1bmYcw0',\n",
       " 'token_type': 'Bearer',\n",
       " 'expires_in': 7200,\n",
       " 'created_at': 1741717980}"
      ]
     },
     "execution_count": 4,
     "metadata": {},
     "output_type": "execute_result"
    }
   ],
   "source": [
    "# Create an instance of the authentication service\n",
    "authenticator = k2connect.Tokens\n",
    "access_token = authenticator.request_access_token()\n",
    "access_token"
   ]
  },
  {
   "cell_type": "code",
   "execution_count": 5,
   "metadata": {},
   "outputs": [
    {
     "name": "stdout",
     "output_type": "stream",
     "text": [
      "Polling Location: https://sandbox.kopokopo.com/api/v1/polling/dd30beda-b90b-483f-a815-95871bb4e8e4\n"
     ]
    }
   ],
   "source": [
    "access_token = \"OX7H64ep_LqxcfmXlNqHNIiR0_85uSZmjwdX1bmYcw0\"\n",
    "\n",
    "# Prepare the request body\n",
    "request_body = {\n",
    "    \"access_token\": access_token,\n",
    "    \"callback_url\": \"https://sandbox.kopokopo.com\",\n",
    "    \"scope\": \"company\",\n",
    "    \"scope_reference\": \"\",\n",
    "    \"from_time\": \"2021-04-12T08:50:22+03:00\",\n",
    "    \"to_time\": \"2021-04-19T08:50:22+03:00\"\n",
    "}\n",
    "\n",
    "# Create a polling request\n",
    "polling_service = k2connect.Polling\n",
    "polling_location = polling_service.create_polling_request(request_body)\n",
    "print(\"Polling Location:\", polling_location)\n",
    "\n"
   ]
  },
  {
   "cell_type": "code",
   "execution_count": 9,
   "metadata": {},
   "outputs": [],
   "source": [
    "# # Process the polling response\n",
    "# from k2connect import payload_decomposer\n",
    "\n",
    "# result_handler = k2connect.ResultHandler\n",
    "# processed_payload = result_handler.process(polling_location)\n",
    "# decomposed_result = payload_decomposer.decompose(processed_payload)\n",
    "\n",
    "# # Print decomposed results\n",
    "# print(\"Decomposed Result:\", decomposed_result)"
   ]
  },
  {
   "cell_type": "markdown",
   "metadata": {},
   "source": [
    "#### Polling Service"
   ]
  },
  {
   "cell_type": "code",
   "execution_count": 6,
   "metadata": {},
   "outputs": [],
   "source": [
    "# pollingUrl = \"https://sandbox.kopokopo.com/api/v1/polling/9489d417-bb47-4d32-902c-31b112687e9f\"\n",
    " \n",
    "# # Using K2 Connect - https://github.com/kopokopo/k2-connect-python (Recommended)\n",
    "# # k2connect.initialize(environ.get('CLIENT_ID'), environ.get('CLIENT_SECRET'), 'http://127.0.0.1:3000/')\n",
    "# polling_service = k2connect.Polling\n",
    "# polling_location = polling_service.polling_request_status(access_token, pollingUrl)"
   ]
  },
  {
   "cell_type": "code",
   "execution_count": 7,
   "metadata": {},
   "outputs": [],
   "source": [
    "# import os\n",
    "\n",
    "# # initialize service\n",
    "# notification_service = k2connect.Polling\n",
    "\n",
    "# access_token = \"aXWIENULomYIEfbG7HxAUNRF4URoYdh58KIPENcvI1I\"\n",
    "\n",
    "# # create polling request\n",
    "# request_payload = {\n",
    "#     \"access_token\": 'aXWIENULomYIEfbG7HxAUNRF4URoYdh58KIPENcvI1I',\n",
    "#     \"callback_url\": 'https://sandbox.kopokopo.com/api/v1/polling',\n",
    "#     \"scope\": \"till\",\n",
    "#     \"scope_reference\": \"112233\",\n",
    "#     \"from_time\": \"2021-07-09T08:50:22+03:00\",\n",
    "#     \"to_time\": \"2021-07-10T18:00:22+03:00\",\n",
    "#     }\n",
    "# polling_resource_location_url = notification_service.send_transaction_sms_notification(request_payload)\n",
    "\n",
    "# # get request status\n",
    "# request_status = notification_service.transaction_notification_status(access_token, polling_resource_location_url)"
   ]
  },
  {
   "cell_type": "markdown",
   "metadata": {},
   "source": []
  }
 ],
 "metadata": {
  "kernelspec": {
   "display_name": "venv",
   "language": "python",
   "name": "python3"
  },
  "language_info": {
   "codemirror_mode": {
    "name": "ipython",
    "version": 3
   },
   "file_extension": ".py",
   "mimetype": "text/x-python",
   "name": "python",
   "nbconvert_exporter": "python",
   "pygments_lexer": "ipython3",
   "version": "3.11.6"
  }
 },
 "nbformat": 4,
 "nbformat_minor": 2
}
