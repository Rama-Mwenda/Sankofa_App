{
 "cells": [
  {
   "cell_type": "markdown",
   "metadata": {},
   "source": [
    "## SANKOFA APP PROJECT"
   ]
  },
  {
   "cell_type": "code",
   "execution_count": null,
   "metadata": {},
   "outputs": [],
   "source": [
    "import k2connect\n",
    "import os\n",
    "\n",
    "# Replace these with secure environment variables\n",
    "CLIENT_ID = os.environ.get(\"CLIENT_ID\")\n",
    "CLIENT_SECRET = os.environ.get(\"CLIENT_SECRET\")\n",
    "BASE_URL = os.environ.get(\"BASE_URL\")"
   ]
  },
  {
   "cell_type": "code",
   "execution_count": null,
   "metadata": {},
   "outputs": [],
   "source": [
    "# Initialize the library\n",
    "k2connect.initialize(CLIENT_ID, CLIENT_SECRET, BASE_URL)"
   ]
  },
  {
   "cell_type": "code",
   "execution_count": null,
   "metadata": {},
   "outputs": [],
   "source": [
    "# Create an instance of the authentication service\n",
    "authenticator = k2connect.Tokens\n",
    "access_token = authenticator.request_access_token()"
   ]
  },
  {
   "cell_type": "code",
   "execution_count": null,
   "metadata": {},
   "outputs": [],
   "source": [
    "# Prepare the request body\n",
    "request_body = {\n",
    "    \"access_token\": access_token.get(\"access_token\"),\n",
    "    \"callback_url\": \"https://sandbox.kopokopo.com\",\n",
    "    \"scope\": \"company\",\n",
    "    \"scope_reference\": \"\",\n",
    "    \"from_time\": \"2021-04-12T08:50:22+03:00\",\n",
    "    \"to_time\": \"2021-04-19T08:50:22+03:00\"\n",
    "}\n",
    "\n",
    "# Create a polling request\n",
    "polling_service = k2connect.Polling\n",
    "polling_location = polling_service.create_polling_request(request_body)"
   ]
  }
 ],
 "metadata": {
  "kernelspec": {
   "display_name": "venv",
   "language": "python",
   "name": "python3"
  },
  "language_info": {
   "name": "python",
   "version": "3.11.6"
  }
 },
 "nbformat": 4,
 "nbformat_minor": 2
}
