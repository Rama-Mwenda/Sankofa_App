{
 "cells": [
  {
   "cell_type": "markdown",
   "metadata": {},
   "source": [
    "### SANKOFA PROJECT"
   ]
  },
  {
   "cell_type": "markdown",
   "metadata": {},
   "source": [
    "#### Initiliazation"
   ]
  },
  {
   "cell_type": "code",
   "execution_count": 1,
   "metadata": {},
   "outputs": [],
   "source": [
    "import k2connect\n",
    "import os\n",
    "\n",
    "# Replace these with secure environment variables\n",
    "CLIENT_ID = os.environ.get(\"CLIENT_ID\")\n",
    "CLIENT_SECRET = os.environ.get(\"CLIENT_SECRET\")\n",
    "BASE_URL = os.environ.get(\"BASE_URL\")"
   ]
  },
  {
   "cell_type": "code",
   "execution_count": 10,
   "metadata": {},
   "outputs": [],
   "source": [
    "# Initialize the library\n",
    "k2connect.initialize(CLIENT_ID, CLIENT_SECRET, BASE_URL)"
   ]
  },
  {
   "cell_type": "code",
   "execution_count": 5,
   "metadata": {},
   "outputs": [],
   "source": [
    "# Create an instance of the authentication service\n",
    "authenticator = k2connect.Tokens\n",
    "access_token = authenticator.request_access_token()\n"
   ]
  },
  {
   "cell_type": "code",
   "execution_count": 9,
   "metadata": {},
   "outputs": [
    {
     "name": "stdout",
     "output_type": "stream",
     "text": [
      "Polling Location: https://sandbox.kopokopo.com/api/v1/polling/46249611-78fe-4b9a-ba99-3708128a2c9d\n"
     ]
    }
   ],
   "source": [
    "# Prepare the request body\n",
    "request_body = {\n",
    "    \"access_token\": access_token.get(\"access_token\"),\n",
    "    \"callback_url\": \"https://sankofa-6b5r.onrender.com\",\n",
    "    \"scope\": \"company\",\n",
    "    \"scope_reference\": \"\",\n",
    "    \"from_time\": \"2021-04-12T08:50:22+03:00\",\n",
    "    \"to_time\": \"2021-04-19T08:50:22+03:00\"\n",
    "}\n",
    "\n",
    "# Create a polling request\n",
    "polling_service = k2connect.Polling\n",
    "polling_location = polling_service.create_polling_request(request_body)\n",
    "print(\"Polling Location:\", polling_location)\n",
    "\n"
   ]
  },
  {
   "cell_type": "markdown",
   "metadata": {},
   "source": [
    "#### Polling Service"
   ]
  },
  {
   "cell_type": "markdown",
   "metadata": {},
   "source": []
  }
 ],
 "metadata": {
  "kernelspec": {
   "display_name": "venv",
   "language": "python",
   "name": "python3"
  },
  "language_info": {
   "codemirror_mode": {
    "name": "ipython",
    "version": 3
   },
   "file_extension": ".py",
   "mimetype": "text/x-python",
   "name": "python",
   "nbconvert_exporter": "python",
   "pygments_lexer": "ipython3",
   "version": "3.11.6"
  }
 },
 "nbformat": 4,
 "nbformat_minor": 2
}
